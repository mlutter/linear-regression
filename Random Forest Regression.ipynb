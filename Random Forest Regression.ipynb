{
 "cells": [
  {
   "cell_type": "markdown",
   "metadata": {},
   "source": [
    "# Random Forest Regression\n",
    "Random forest works by taking the decision tree concept and creating a \"forest\" of those trees by random sampling the source data for each of the trees. Then the forest makes the prediction by asking each of the trees and averating the result. \n",
    "\n",
    "Shown here, very simply as the two lines. "
   ]
  },
  {
   "cell_type": "code",
   "execution_count": 2,
   "metadata": {},
   "outputs": [
    {
     "name": "stdout",
     "output_type": "stream",
     "text": [
      "Predicting a new value at 2: [ 25719.92645362]\n",
      "Predicting a new value at 3: [ 52470.97182878]\n",
      "Regression Score: 0.9823214563419591\n"
     ]
    },
    {
     "data": {
      "image/png": "[encoded data removed]",
      "text/plain": [
       "<matplotlib.figure.Figure at 0x7ff137cbde80>"
      ]
     },
     "metadata": {},
     "output_type": "display_data"
    }
   ],
   "source": [
    "from sklearn import datasets\n",
    "import matplotlib.pyplot as plt\n",
    "import numpy as np\n",
    "\n",
    "#generate random data\n",
    "X,y = datasets.make_regression( n_samples=200, n_features=1, noise=7, bias=2, random_state=42)\n",
    "y = y**2\n",
    "\n",
    "#Create and fit\n",
    "from sklearn.ensemble import RandomForestRegressor\n",
    "regressor = RandomForestRegressor(n_estimators = 10, random_state = 0)\n",
    "regressor.fit(X, y)\n",
    "\n",
    "#Predict some new values\n",
    "print(\"Predicting a new value at 2: {}\".format( regressor.predict(2)))\n",
    "print(\"Predicting a new value at 3: {}\".format( regressor.predict(3)))\n",
    "\n",
    "print(\"Regression Score: {}\".format(regressor.score(X, y)))\n",
    "\n",
    "# Visualization\n",
    "X_grid = np.arange(min(X), max(X), 0.01)\n",
    "X_grid = X_grid.reshape((len(X_grid), 1))\n",
    "plt.scatter(X, y, color = 'red')\n",
    "plt.plot(X_grid, regressor.predict(X_grid), color = 'blue')\n",
    "plt.title('Random Forest Regression')\n",
    "plt.show()"
   ]
  },
  {
   "cell_type": "markdown",
   "metadata": {},
   "source": [
    "### And with more features:"
   ]
  },
  {
   "cell_type": "code",
   "execution_count": 3,
   "metadata": {},
   "outputs": [
    {
     "name": "stdout",
     "output_type": "stream",
     "text": [
      "Predicting a new value: [ 81791.90449767]\n",
      "Regression Score: 0.9707548195167595\n"
     ]
    }
   ],
   "source": [
    "#generate random data with 5 features\n",
    "X,y = datasets.make_regression( n_samples=2200, n_features=5, noise=7, bias=2, random_state=42)\n",
    "y = y**2\n",
    "\n",
    "#Create and fit \n",
    "from sklearn.ensemble import RandomForestRegressor\n",
    "regressor = RandomForestRegressor(n_estimators = 10, random_state = 0)\n",
    "regressor.fit(X, y)\n",
    "\n",
    "#Predict a new value\n",
    "print(\"Predicting a new value: {}\".format( regressor.predict( [[2,1.7,2.2,1.1,0.75]] )))\n",
    "\n",
    "\n",
    "print(\"Regression Score: {}\".format(regressor.score(X, y)))"
   ]
  },
  {
   "cell_type": "markdown",
   "metadata": {},
   "source": [
    "## And with a train/test split\n",
    "Here the full forect can be seen to outperform the single decision tree as shown in the Decision Tree notebook"
   ]
  },
  {
   "cell_type": "code",
   "execution_count": 4,
   "metadata": {},
   "outputs": [
    {
     "name": "stdout",
     "output_type": "stream",
     "text": [
      "Regression Score: 0.8423156275323286\n"
     ]
    }
   ],
   "source": [
    "#generate random data with 5 features\n",
    "X,y = datasets.make_regression( n_samples=2200, n_features=5, noise=7, bias=2, random_state=42)\n",
    "y = y**2\n",
    "\n",
    "from sklearn.model_selection import train_test_split\n",
    "X_train, X_test, y_train, y_test = train_test_split(X,y, test_size=0.3, random_state=42)\n",
    "\n",
    "#Create and fit\n",
    "from sklearn.ensemble import RandomForestRegressor\n",
    "regressor = RandomForestRegressor(n_estimators = 10, random_state = 0)\n",
    "regressor.fit(X_train, y_train)\n",
    "\n",
    "print(\"Regression Score: {}\".format(regressor.score(X_test, y_test)))"
   ]
  },
  {
   "cell_type": "markdown",
   "metadata": {},
   "source": [
    "# Recreating the wheel\n",
    "\n",
    "Here is a neat little experiment for fun. I have reconstructed the Random Forest by constructing individual decision trees using bootstrap sampling with replacement and having them give the averages to reconstruct what is going on in the proper Random Forest model. Nicely, it gives a similar R-squared. "
   ]
  },
  {
   "cell_type": "code",
   "execution_count": 6,
   "metadata": {},
   "outputs": [
    {
     "name": "stdout",
     "output_type": "stream",
     "text": [
      "The forest predicts: 74395.71837071965\n",
      "My Score: 0.8343013577643791\n"
     ]
    }
   ],
   "source": [
    "from sklearn.tree import DecisionTreeRegressor\n",
    "\n",
    "#use bootstrapping on the training data to generate individual decision trees and create random forest\n",
    "np.random.seed(0)\n",
    "theindices = np.arange(len(X_train))\n",
    "theforest = []\n",
    "for i in range(10):\n",
    "    bs_indices = np.random.choice(theindices, size=len(X_train))\n",
    "    bs_Xtrain = X_train[bs_indices]    \n",
    "    bs_ytrain = y_train[bs_indices]\n",
    "    reg = DecisionTreeRegressor()\n",
    "    reg.fit(bs_Xtrain, bs_ytrain)\n",
    "    theforest.append(reg)\n",
    "\n",
    "#predict a new value\n",
    "new_features = [[2,1.7,2.2,1.1,0.75]]\n",
    "individual_preds = []\n",
    "for i in range(10):\n",
    "    this_pred = theforest[i].predict(new_features)\n",
    "    individual_preds.append(this_pred)\n",
    "print(\"The forest predicts: {}\".format(np.mean(individual_preds)))\n",
    "\n",
    "#functionize it\n",
    "def askTheForest(feats):\n",
    "    these_individual_preds = []\n",
    "    for i in range(10):\n",
    "        this_pred = theforest[i].predict(feats)\n",
    "        these_individual_preds.append(this_pred)\n",
    "    return np.mean(these_individual_preds)\n",
    "    \n",
    "    \n",
    "#score this attempt\n",
    "from sklearn.metrics import r2_score\n",
    "my_preds = []\n",
    "for i in range(len(X_test)):\n",
    "    my_preds.append(askTheForest(X_test[[i]]))\n",
    "print(\"My Score: {}\".format( r2_score(y_test, my_preds  )))"
   ]
  },
  {
   "cell_type": "code",
   "execution_count": null,
   "metadata": {
    "collapsed": true
   },
   "outputs": [],
   "source": []
  }
 ],
 "metadata": {
  "kernelspec": {
   "display_name": "Python [conda env:datacamp]",
   "language": "python",
   "name": "conda-env-datacamp-py"
  },
  "language_info": {
   "codemirror_mode": {
    "name": "ipython",
    "version": 3
   },
   "file_extension": ".py",
   "mimetype": "text/x-python",
   "name": "python",
   "nbconvert_exporter": "python",
   "pygments_lexer": "ipython3",
   "version": "3.5.4"
  }
 },
 "nbformat": 4,
 "nbformat_minor": 2
}
